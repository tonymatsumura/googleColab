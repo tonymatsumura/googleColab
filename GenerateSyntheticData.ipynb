{
  "nbformat": 4,
  "nbformat_minor": 0,
  "metadata": {
    "colab": {
      "provenance": [],
      "authorship_tag": "ABX9TyOMP9/n3kDFIU/hM8i3nM5G",
      "include_colab_link": true
    },
    "kernelspec": {
      "name": "python3",
      "display_name": "Python 3"
    },
    "language_info": {
      "name": "python"
    }
  },
  "cells": [
    {
      "cell_type": "markdown",
      "metadata": {
        "id": "view-in-github",
        "colab_type": "text"
      },
      "source": [
        "<a href=\"https://colab.research.google.com/github/tonymatsumura/googleColab/blob/main/GenerateSyntheticData.ipynb\" target=\"_parent\"><img src=\"https://colab.research.google.com/assets/colab-badge.svg\" alt=\"Open In Colab\"/></a>"
      ]
    },
    {
      "cell_type": "code",
      "execution_count": null,
      "metadata": {
        "id": "b8hTb97AQTj4"
      },
      "outputs": [],
      "source": [
        "# PROMPT:\n",
        "# GENERATE a python dictionary titled \"years_experience\" with names as the key and years as the value. Use random values for each; make it 25 items long\n",
        "\n",
        "import random\n",
        "\n",
        "# List of first and last names\n",
        "first_names = [\n",
        "    \"Emma\", \"Liam\", \"Olivia\", \"Noah\", \"Ava\", \"William\", \"Sophia\", \"James\", \"Isabella\", \"Oliver\",\n",
        "    \"Charlotte\", \"Benjamin\", \"Amelia\", \"Elijah\", \"Mia\", \"Lucas\", \"Evelyn\", \"Mason\", \"Harper\", \"Logan\"\n",
        "]\n",
        "\n",
        "last_names = [\n",
        "    \"Smith\", \"Johnson\", \"Williams\", \"Brown\", \"Jones\", \"Garcia\", \"Miller\", \"Davis\", \"Rodriguez\", \"Martinez\",\n",
        "    \"Hernandez\", \"Lopez\", \"Gonzalez\", \"Wilson\", \"Anderson\", \"Thomas\", \"Taylor\", \"Moore\", \"Jackson\", \"Martin\"\n",
        "]\n",
        "\n",
        "# Generate the dictionary\n",
        "years_experience = {}\n",
        "for _ in range(25):\n",
        "    first = random.choice(first_names)\n",
        "    last = random.choice(last_names)\n",
        "    full_name = f\"{first} {last}\"\n",
        "    if full_name not in years_experience:  # Ensure no duplicates\n",
        "        years_experience[full_name] = random.randint(0, 20)\n",
        "\n",
        "print(years_experience)"
      ]
    }
  ]
}